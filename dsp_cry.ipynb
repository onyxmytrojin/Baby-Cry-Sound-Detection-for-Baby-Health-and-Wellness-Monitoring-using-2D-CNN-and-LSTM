{
 "cells": [
  {
   "cell_type": "code",
   "execution_count": 4,
   "metadata": {},
   "outputs": [],
   "source": [
    "ORGINAL_DATASET_PATH = r\"C:\\Users\\shubh\\OneDrive\\Desktop\\dsp_cry_corpus\\dont_cry_corpus\"\n",
    "DATASET_PATH = r\"C:\\Users\\shubh\\OneDrive\\Desktop\\dsp_cry_corpus\\dont_cry_corpus\"\n",
    "ORGINAL_AUDIO_DATASET = \"./dataset\"\n",
    "AUG_AUDIO_DATASET = r\"C:\\Users\\shubh\\OneDrive\\Desktop\\dsp_cry_corpus\\augmented_data\"\n",
    "FEATURES_FOLDER = r\"C:\\Users\\shubh\\OneDrive\\Desktop\\dsp_cry_corpus\\features\"\n",
    "DATASET_MFCC_PATH = f\"{FEATURES_FOLDER}/mfcc\"\n",
    "DATASET_RMS_PATH = f\"{FEATURES_FOLDER}/rms\"\n",
    "DATASET_ZCR_PATH = f\"{FEATURES_FOLDER}/zcr\"\n",
    "ARTICLE_RESULTS = r\"C:\\Users\\shubh\\OneDrive\\Desktop\\dsp_cry_corpus\\article\""
   ]
  },
  {
   "cell_type": "code",
   "execution_count": 5,
   "metadata": {},
   "outputs": [],
   "source": [
    "targetSampleRate = 22050\n",
    "duration = 7.0\n",
    "targetNumSamples = int(targetSampleRate * duration)"
   ]
  },
  {
   "cell_type": "code",
   "execution_count": 6,
   "metadata": {},
   "outputs": [],
   "source": [
    "import os\n",
    "import warnings\n",
    "warnings.filterwarnings('ignore')\n",
    "import wave\n",
    "import random\n",
    "import librosa\n",
    "import numpy as np\n",
    "import soundfile as sf\n",
    "from pydub.playback import play\n",
    "from audiomentations import Compose, AddGaussianNoise, PitchShift, HighPassFilter\n",
    "import matplotlib.pyplot as plt\n",
    "from IPython.display import Audio\n",
    "import librosa.display as dsp\n",
    "import pandas as pd\n",
    "import torch\n",
    "from torch.utils.data import Dataset, DataLoader\n",
    "import torchaudio\n",
    "from torchsummary import summary\n",
    "import os\n",
    "import sounddevice as sd\n",
    "from scipy.io.wavfile import write\n",
    "import wavio as wv\n",
    "from torch import nn\n",
    "from torchvision import datasets\n",
    "# from torch.utils.tensorboard import SummaryWriter\n",
    "import torchvision\n",
    "import tensorflow as ts\n",
    "\n",
    "\n",
    "plt.rcParams[\"axes.labelsize\"] = 'medium'\n",
    "plt.rcParams[\"axes.titlecolor\"] = 'red'\n",
    "plt.rcParams[\"axes.titlesize\"] = 'large'\n",
    "plt.rcParams[\"font.size\"] = 18\n",
    "\n",
    "class audioPreprocessing:\n",
    "\n",
    "\n",
    "    def __init__(self, sample_rate = None, num_samples = None, duration = None):\n",
    "        self.signal = None\n",
    "        self.sample_rate = sample_rate\n",
    "        self.num_samples = num_samples\n",
    "        self.duration = duration\n",
    "\n",
    "    def readAudio(self, fileName, dur=60):\n",
    "      self.signal, self.sample_rate = librosa.load(fileName, sr=22050)\n",
    "      # Optional: Check if self.signal is valid (e.g., not None)\n",
    "      self.num_samples = self.signal.shape[0]\n",
    "      self.duration = librosa.get_duration(y=self.signal,sr=self.sample_rate)\n",
    "      return self.signal\n",
    "\n",
    "\n",
    "    def add_white_noise(self, signal, noise_percentage_factor):\n",
    "        noise = np.random.normal(0, signal.std(), signal.size)\n",
    "        augmented_signal = signal + noise * noise_percentage_factor\n",
    "        return augmented_signal\n",
    "\n",
    "\n",
    "    def time_stretch(self, signal, time_stretch_rate):\n",
    "        \"\"\"Time stretching implemented with librosa:\n",
    "        https://librosa.org/doc/main/generated/librosa.effects.pitch_shift.html?highlight=pitch%20shift#librosa.effects.pitch_shift\n",
    "        \"\"\"\n",
    "        return librosa.effects.time_stretch(signal, time_stretch_rate)\n",
    "\n",
    "\n",
    "    def pitch_scale(self, signal, sr, num_semitones):\n",
    "        \"\"\"Pitch scaling implemented with librosa:\n",
    "        https://librosa.org/doc/main/generated/librosa.effects.pitch_shift.html?highlight=pitch%20shift#librosa.effects.pitch_shift\n",
    "        \"\"\"\n",
    "        return librosa.effects.pitch_shift(signal, sr, num_semitones)\n",
    "\n",
    "\n",
    "    def random_gain(self, signal, min_factor=0.1, max_factor=0.12):\n",
    "        gain_rate = random.uniform(min_factor, max_factor)\n",
    "        augmented_signal = signal * gain_rate\n",
    "        return augmented_signal\n",
    "\n",
    "\n",
    "    def invert_polarity(self, signal):\n",
    "        return signal * -1\n",
    "\n",
    "\n",
    "    def _resample_if_necessary(self, signal, targetSampleRate):\n",
    "        if targetSampleRate != self.sample_rate:\n",
    "            resampler = torchaudio.transforms.Resample(self.sample_rate, targetSampleRate)\n",
    "            signal = resampler(signal)\n",
    "        return signal\n",
    "\n",
    "    def _mix_down_if_necessary(self, signal):\n",
    "        if signal.shape[0] > 1:\n",
    "            signal = torch.mean(signal, dim=0, keepdim=True)\n",
    "        return signal\n",
    "\n",
    "    def _cut_if_necessary(self, signal, targetNumSamples = None):\n",
    "        if targetNumSamples is None:\n",
    "            if signal.shape[1] > self.num_samples:\n",
    "                signal = signal[:, :self.num_samples]\n",
    "        else:\n",
    "            if signal.shape[1] > targetNumSamples:\n",
    "                signal = signal[:, :targetNumSamples]\n",
    "\n",
    "        return signal\n",
    "\n",
    "    def _right_pad_if_necessary(self, signal, targetNumSamples = None):\n",
    "        length_signal = signal.shape[1]\n",
    "        if targetNumSamples is None:\n",
    "            if length_signal < self.num_samples:\n",
    "                num_missing_samples = self.num_samples - length_signal\n",
    "                last_dim_padding = (0, num_missing_samples)\n",
    "                signal = torch.nn.functional.pad(signal, last_dim_padding)\n",
    "        else:\n",
    "            if length_signal < targetNumSamples:\n",
    "                num_missing_samples = targetNumSamples - length_signal\n",
    "                last_dim_padding = (0, num_missing_samples)\n",
    "                signal = torch.nn.functional.pad(signal, last_dim_padding)\n",
    "        return signal\n",
    "\n",
    "\n",
    "    def audioAugmentation(self, signal):\n",
    "        \n",
    "        augment_raw_audio = Compose(\n",
    "            [\n",
    "                AddGaussianNoise(min_amplitude=0.01, max_amplitude=0.015, p=1),\n",
    "                PitchShift(min_semitones=-2, max_semitones=2, p=1),\n",
    "                HighPassFilter(min_cutoff_freq=3000, max_cutoff_freq=4000, p=1)\n",
    "            ]\n",
    "        )\n",
    "        augmented_signal = augment_raw_audio(signal, self.sample_rate)\n",
    "        return augmented_signal\n",
    "\n",
    "    def audioAugmentation1(self, signal, i):\n",
    "        \n",
    "        aug_transform = []\n",
    "        aug_transform1 = [\n",
    "                AddGaussianNoise(min_amplitude=0.01, max_amplitude=0.015, p=1),\n",
    "                PitchShift(min_semitones=-2, max_semitones=2, p=1),\n",
    "                HighPassFilter(min_cutoff_freq=3000, max_cutoff_freq=4000, p=1)\n",
    "            ]\n",
    "        for j in i:\n",
    "            aug_transform.append(aug_transform1[j])\n",
    "\n",
    "\n",
    "        augment_raw_audio = Compose(aug_transform)\n",
    "        augmented_signal = augment_raw_audio(signal, self.sample_rate)\n",
    "        return augmented_signal\n",
    "\n",
    "\n",
    "    def plotSpectrum(self, signal, sample_rate, plotType = 'linear', title = \"\", ax = None):\n",
    "            if ax is None:\n",
    "                fig, ax = plt.subplots(1, 1, sharex=True, figsize=(9,5))\n",
    "\n",
    "            d = librosa.stft(signal)\n",
    "            D = librosa.amplitude_to_db(np.abs(d),ref=np.max)\n",
    "            dsp.specshow(D, y_axis = plotType, x_axis ='s', sr=sample_rate, ax = ax)\n",
    "            ax.set(title = title)\n",
    "            ax.label_outer()\n",
    "#             fig.colorbar(img, ax = ax, format='%+2.f dB')\n",
    "\n",
    "    def plotBeforeAfter(self, signal, augmented, sample_rate):\n",
    "        fig, ax = plt.subplots(nrows = 2, sharex = True, figsize = (15,10))\n",
    "        librosa.display.waveshow(signal, sr = sample_rate,ax = ax[0])\n",
    "        ax[0].axis('off')\n",
    "        ax[0].set(title = 'Original Signal')\n",
    "\n",
    "        librosa.display.waveshow(augmented, sr = sample_rate, ax = ax[1])\n",
    "        ax[1].set(title = 'Augmented Signal')\n",
    "        ax[1].axis('off')\n",
    "\n",
    "        plt.show()"
   ]
  },
  {
   "cell_type": "code",
   "execution_count": null,
   "metadata": {},
   "outputs": [],
   "source": [
    "import shutil\n",
    "if os.path.exists('dataset'):\n",
    "    shutil.rmtree('dataset')\n",
    "shutil.copytree(r'C:\\Users\\shubh\\OneDrive\\Desktop\\dsp_cry_corpus\\dont_cry_corpus', 'dataset')\n"
   ]
  },
  {
   "cell_type": "code",
   "execution_count": null,
   "metadata": {},
   "outputs": [],
   "source": [
    "import os\n",
    "import numpy as np\n",
    "import cv2\n",
    "from glob import glob\n",
    "from tqdm import tqdm\n",
    "import soundfile as sf\n",
    "import os\n",
    "import warnings\n",
    "warnings.filterwarnings('ignore')\n",
    "import wave\n",
    "import random\n",
    "import librosa\n",
    "import numpy as np\n",
    "import soundfile as sf\n",
    "from pydub.playback import play\n",
    "from audiomentations import Compose, AddGaussianNoise, PitchShift, HighPassFilter\n",
    "import matplotlib.pyplot as plt\n",
    "from IPython.display import Audio\n",
    "import librosa.display as dsp\n",
    "import pandas as pd\n",
    "import sounddevice as sd\n",
    "from scipy.io.wavfile import write\n",
    "import wavio as wv\n",
    "import pathlib\n",
    "from tqdm.auto import tqdm\n",
    "\n",
    "plt.rcParams[\"axes.labelsize\"] = 'medium'\n",
    "plt.rcParams[\"axes.titlecolor\"] = 'red'\n",
    "plt.rcParams[\"axes.titlesize\"] = 'large'\n",
    "plt.rcParams[\"font.size\"] = 18\n",
    "\n",
    "obj = audioPreprocessing()\n",
    "\n",
    "def load_data(path):\n",
    "    audioFiles = sorted(list(pathlib.Path(path).rglob(\"*.wav\")))\n",
    "    classes = [str(f.parent).split(os.path.sep)[-1] for f in audioFiles]  # Extract class label from parent directory\n",
    "    return audioFiles, classes\n",
    "\n",
    "def augment_data(audioFileNames, classes, save_path):\n",
    "    global obj\n",
    "    dictionary = {'belly_pain': 16,\n",
    "                  'burping': 8,\n",
    "                  'discomfort': 27,\n",
    "                  'hungry': 382,\n",
    "                  'tired': 24}\n",
    "    print(\"before: \", len(audioFileNames))\n",
    "    for idx, x in tqdm(enumerate(audioFileNames), total=len(audioFileNames)):\n",
    "        signal_org = obj.readAudio(fileName=x)\n",
    "        cc = pathlib.Path(f\"{save_path}//\" + \"//\".join(str(x).split(os.path.sep)[1:]))\n",
    "        path2save = os.path.join(cc.parent, cc.stem + cc.suffix)\n",
    "        pathlib.Path(pathlib.Path(path2save).parent).mkdir(parents=True, exist_ok=True)\n",
    "        if classes[idx] == \"hungry\":\n",
    "            sf.write(os.path.join(pathlib.Path(path2save).parent, x.name), signal_org, targetSampleRate)\n",
    "        else:\n",
    "            augmentation_num = 382 // dictionary[classes[idx]]\n",
    "            print(augmentation_num)\n",
    "            signal = signal_org\n",
    "            for i in range(augmentation_num):\n",
    "                path2save = os.path.join(cc.parent, cc.stem + \"_\" + str(idx) + str(i) + cc.suffix)\n",
    "                augmented_signal = obj.audioAugmentation1(signal, [0])\n",
    "                pathlib.Path(cc.parent).mkdir(parents=True, exist_ok=True)\n",
    "                sf.write(path2save, augmented_signal, obj.sample_rate)\n",
    "                sf.write(os.path.join(pathlib.Path(path2save).parent, x.name), signal_org, targetSampleRate)\n",
    "    print(\"After:\", len(list(pathlib.Path(save_path).rglob(\"*.wav\"))))\n",
    "\n",
    "if __name__ == \"__main__\":\n",
    "    np.random.seed(42)\n",
    "    X, y = load_data(ORGINAL_AUDIO_DATASET)\n",
    "    print(f\"Train: {len(X)} - {len(y)}\")\n",
    "    augment_data(X, y, AUG_AUDIO_DATASET)\n"
   ]
  },
  {
   "cell_type": "code",
   "execution_count": 7,
   "metadata": {},
   "outputs": [
    {
     "name": "stderr",
     "output_type": "stream",
     "text": [
      "100%|██████████| 1939/1939 [00:22<00:00, 87.70it/s] \n"
     ]
    }
   ],
   "source": [
    "import matplotlib.pyplot as plt\n",
    "import pathlib\n",
    "import cv2\n",
    "import numpy as np\n",
    "import librosa\n",
    "import os\n",
    "from tqdm.auto import tqdm\n",
    "\n",
    "import matplotlib.pyplot as plt\n",
    "import numpy as np\n",
    "\n",
    "def generate_spectrogram(stft_matrix, Fs):\n",
    "    stft_matrix = np.abs(stft_matrix.T)\n",
    "    \n",
    "    fig = plt.figure(figsize=(2.56, 2.56), facecolor='lightgrey')\n",
    "\n",
    "    ax = fig.add_subplot(1, 1, 1)\n",
    "    powerSpectrum, frequenciesFound, time, imageAxis = ax.specgram(stft_matrix, Fs=Fs)\n",
    "    ax.set_xlabel('Time (s)')\n",
    "    ax.set_ylabel('Frequency (Hz)')\n",
    "    \n",
    "    plt.axis('on')\n",
    "    return fig\n",
    "\n",
    "\n",
    "\n",
    "def extract_features(DATASET_FILE, features_folder):\n",
    "    saveTo = f\"{features_folder}/spectrogram/\"\n",
    "    pathlib.Path(saveTo).mkdir(parents=True, exist_ok=True)\n",
    "\n",
    "    files = sorted(list(pathlib.Path(DATASET_FILE).rglob(\"*.wav\")))\n",
    "    stft_db_matrices = []  # List to store STFT matrices and class labels\n",
    "    for f in tqdm(files, total=len(files)):\n",
    "        class_label = f.parts[-2]  # Extract class label from the folder name\n",
    "        pathlib.Path(os.path.join(saveTo, class_label)).mkdir(parents=True, exist_ok=True)\n",
    "\n",
    "        signal, sr = librosa.load(f, duration=5.0)\n",
    "        stft_matrix = librosa.stft(signal,n_fft=2046,hop_length=2046)\n",
    "        #print((len(stft_matrix)))\n",
    "        stft_db = librosa.amplitude_to_db(np.abs(stft_matrix), ref=1)\n",
    "        #print(\"Shape of stft_db before reshaping:\", stft_db.shape)\n",
    "        stft_db = stft_db.reshape(128,432,1)\n",
    "        stft_db_matrices.append((stft_db, class_label))  # Store both STFT matrix and class label\n",
    "        \n",
    "        # spectrogram = generate_spectrogram(stft_matrix, sr)\n",
    "        # spectrogram.savefig(os.path.join(saveTo, class_label, f.stem + \".png\"))\n",
    "\n",
    "    return stft_db_matrices\n",
    "\n",
    "\n",
    "if __name__ == \"__main__\":\n",
    "    stft_db_matrices = extract_features(AUG_AUDIO_DATASET, FEATURES_FOLDER)\n"
   ]
  },
  {
   "cell_type": "code",
   "execution_count": null,
   "metadata": {},
   "outputs": [],
   "source": [
    "print((stft_db_matrices))"
   ]
  },
  {
   "cell_type": "code",
   "execution_count": 8,
   "metadata": {},
   "outputs": [],
   "source": [
    "def separate_arrays_and_labels(stft_db_matrices):\n",
    "    db_arrays = []\n",
    "    labels = []\n",
    "\n",
    "    for stft_db_array, label in stft_db_matrices:\n",
    "        db_arrays.append(stft_db_array)\n",
    "        labels.append(label)\n",
    "\n",
    "    return db_arrays, labels\n",
    "\n",
    "\n",
    "db_arrays, labels = separate_arrays_and_labels(stft_db_matrices)\n"
   ]
  },
  {
   "cell_type": "code",
   "execution_count": 9,
   "metadata": {},
   "outputs": [],
   "source": [
    "import numpy as np\n",
    "\n",
    "\n",
    "db_arrays_np = np.array(db_arrays)\n",
    "labels_np = np.array(labels)\n"
   ]
  },
  {
   "cell_type": "code",
   "execution_count": null,
   "metadata": {},
   "outputs": [],
   "source": [
    "print(labels)"
   ]
  },
  {
   "cell_type": "code",
   "execution_count": 61,
   "metadata": {},
   "outputs": [
    {
     "name": "stdout",
     "output_type": "stream",
     "text": [
      "1939\n"
     ]
    }
   ],
   "source": [
    "print(len(db_arrays_np))"
   ]
  },
  {
   "cell_type": "code",
   "execution_count": 62,
   "metadata": {},
   "outputs": [
    {
     "name": "stdout",
     "output_type": "stream",
     "text": [
      "1939\n"
     ]
    }
   ],
   "source": [
    "print(len(labels_np))"
   ]
  },
  {
   "cell_type": "code",
   "execution_count": 10,
   "metadata": {},
   "outputs": [],
   "source": [
    "import pandas as pd\n",
    "import os\n",
    "import cv2\n",
    "from PIL import Image\n",
    "import pathlib\n",
    "import math\n",
    "import librosa\n",
    "from tqdm.auto import tqdm\n",
    "\n",
    "def generate(where, stft_db_matrices):\n",
    "    wanted_size = (600, 600)\n",
    "    border_white = (255, 255, 255)\n",
    "    border_black = (255, 255, 255)\n",
    "\n",
    "    A = []\n",
    "    B = []\n",
    "    C = []\n",
    "\n",
    "    ALGS = [\n",
    "        \"spectrogram\"  # Change this to \"mel_spectrogram\" if you want Mel spectrograms\n",
    "    ]\n",
    "\n",
    "    for alg in ALGS:\n",
    "        A = []\n",
    "        for stft_db, lbl in stft_db_matrices:\n",
    "            if lbl not in [\"belly_pain\", \"burping\", \"discomfort\", \"hungry\", \"tired\"]:\n",
    "                continue\n",
    "                \n",
    "            # Here, you can modify the path based on the folder structure of your features\n",
    "            xx = sorted(list(pathlib.Path(f\"{FEATURES_FOLDER}/{alg}/{lbl}\").rglob(\"*.png\")))\n",
    "            a = cv2.imread(str(xx[0]))\n",
    "            a = cv2.cvtColor(a, cv2.COLOR_BGR2RGB)\n",
    "            # a = add_margin(Image.fromarray(255 * to3D(a)), 5, 5, 5, 5, color=border_white)\n",
    "            A.append(255 * np.asarray(a))\n",
    "\n",
    "        res1 = np.concatenate(A, axis=1)\n",
    "        res1 = cv2.cvtColor(res1, cv2.COLOR_BGR2RGB)\n",
    "        parts = alg.split(\"_\")\n",
    "        if \"dataset\" in parts:\n",
    "            z = \"_\".join(parts[0:parts.index(\"dataset\")])\n",
    "        else:\n",
    "            z = alg\n",
    "        cv2.imwrite(f\"{where}/tsi_{z}.png\", res1)\n",
    "\n",
    "if __name__ == \"__main__\":\n",
    "    pathlib.Path(f'{ARTICLE_RESULTS}').mkdir(parents=True, exist_ok=True)\n",
    "    generate(f'{ARTICLE_RESULTS}', stft_db_matrices)\n"
   ]
  },
  {
   "cell_type": "code",
   "execution_count": 11,
   "metadata": {},
   "outputs": [],
   "source": [
    "from keras.preprocessing import image\n",
    "import matplotlib.pyplot as plt\n",
    "import keras\n",
    "from keras import backend as K"
   ]
  },
  {
   "cell_type": "code",
   "execution_count": 24,
   "metadata": {},
   "outputs": [
    {
     "name": "stdout",
     "output_type": "stream",
     "text": [
      "Epoch 1/10\n",
      "\u001b[1m388/388\u001b[0m \u001b[32m━━━━━━━━━━━━━━━━━━━━\u001b[0m\u001b[37m\u001b[0m \u001b[1m145s\u001b[0m 368ms/step - accuracy: 0.4443 - loss: 2.0614 - val_accuracy: 0.7375 - val_loss: 0.6981\n",
      "Epoch 2/10\n",
      "\u001b[1m388/388\u001b[0m \u001b[32m━━━━━━━━━━━━━━━━━━━━\u001b[0m\u001b[37m\u001b[0m \u001b[1m143s\u001b[0m 368ms/step - accuracy: 0.7667 - loss: 0.6098 - val_accuracy: 0.8185 - val_loss: 0.4752\n",
      "Epoch 3/10\n",
      "\u001b[1m388/388\u001b[0m \u001b[32m━━━━━━━━━━━━━━━━━━━━\u001b[0m\u001b[37m\u001b[0m \u001b[1m145s\u001b[0m 374ms/step - accuracy: 0.8663 - loss: 0.3929 - val_accuracy: 0.8494 - val_loss: 0.5934\n",
      "Epoch 4/10\n",
      "\u001b[1m388/388\u001b[0m \u001b[32m━━━━━━━━━━━━━━━━━━━━\u001b[0m\u001b[37m\u001b[0m \u001b[1m142s\u001b[0m 366ms/step - accuracy: 0.9182 - loss: 0.2628 - val_accuracy: 0.9459 - val_loss: 0.2454\n",
      "Epoch 5/10\n",
      "\u001b[1m388/388\u001b[0m \u001b[32m━━━━━━━━━━━━━━━━━━━━\u001b[0m\u001b[37m\u001b[0m \u001b[1m140s\u001b[0m 360ms/step - accuracy: 0.9683 - loss: 0.1088 - val_accuracy: 0.9421 - val_loss: 0.2417\n",
      "Epoch 6/10\n",
      "\u001b[1m388/388\u001b[0m \u001b[32m━━━━━━━━━━━━━━━━━━━━\u001b[0m\u001b[37m\u001b[0m \u001b[1m140s\u001b[0m 360ms/step - accuracy: 0.9728 - loss: 0.0891 - val_accuracy: 0.9537 - val_loss: 0.1724\n",
      "Epoch 7/10\n",
      "\u001b[1m388/388\u001b[0m \u001b[32m━━━━━━━━━━━━━━━━━━━━\u001b[0m\u001b[37m\u001b[0m \u001b[1m134s\u001b[0m 344ms/step - accuracy: 0.9801 - loss: 0.0675 - val_accuracy: 0.9614 - val_loss: 0.1010\n",
      "Epoch 8/10\n",
      "\u001b[1m388/388\u001b[0m \u001b[32m━━━━━━━━━━━━━━━━━━━━\u001b[0m\u001b[37m\u001b[0m \u001b[1m135s\u001b[0m 349ms/step - accuracy: 0.9897 - loss: 0.0352 - val_accuracy: 0.9382 - val_loss: 0.2488\n",
      "Epoch 9/10\n",
      "\u001b[1m388/388\u001b[0m \u001b[32m━━━━━━━━━━━━━━━━━━━━\u001b[0m\u001b[37m\u001b[0m \u001b[1m136s\u001b[0m 350ms/step - accuracy: 0.9798 - loss: 0.0789 - val_accuracy: 0.9421 - val_loss: 0.1806\n",
      "Epoch 10/10\n",
      "\u001b[1m388/388\u001b[0m \u001b[32m━━━━━━━━━━━━━━━━━━━━\u001b[0m\u001b[37m\u001b[0m \u001b[1m136s\u001b[0m 351ms/step - accuracy: 0.9825 - loss: 0.0696 - val_accuracy: 0.9614 - val_loss: 0.2468\n"
     ]
    }
   ],
   "source": [
    "import numpy as np\n",
    "from keras.models import Sequential\n",
    "from keras.layers import Conv2D, MaxPooling2D, Flatten, Dense, InputLayer\n",
    "from sklearn.preprocessing import LabelEncoder\n",
    "from keras.utils import to_categorical\n",
    "from sklearn.model_selection import train_test_split\n",
    "from keras.optimizers import Adam\n",
    "\n",
    "if len(labels_np.shape) > 1:\n",
    "    labels_np = labels_np.ravel()\n",
    "\n",
    "\n",
    "label_encoder = LabelEncoder()\n",
    "y_encoded = label_encoder.fit_transform(labels_np)\n",
    "\n",
    "\n",
    "y_onehot = to_categorical(y_encoded)\n",
    "\n",
    "\n",
    "x = db_arrays_np\n",
    "\n",
    "\n",
    "x_train, x_temp, y_train, y_temp = train_test_split(x, y_onehot, train_size=0.8, random_state=42)\n",
    "x_valid, x_test, y_valid, y_test = train_test_split(x_temp, y_temp, test_size=0.33, random_state=42)\n",
    "\n",
    "\n",
    "model = Sequential()\n",
    "model.add(InputLayer(input_shape=x[0].shape))\n",
    "model.add(Conv2D(32, 3, activation='relu' ))\n",
    "model.add(MaxPooling2D())\n",
    "model.add(Conv2D(128, 3, activation='relu'))\n",
    "model.add(MaxPooling2D())\n",
    "model.add(Conv2D(128, 3, activation='relu'))\n",
    "model.add(MaxPooling2D())\n",
    "model.add(Conv2D(128, 3, activation='relu'))\n",
    "model.add(MaxPooling2D(2))\n",
    "model.add(Flatten())\n",
    "model.add(Dense(1024, activation='relu'))\n",
    "model.add(Dense(y_onehot.shape[1], activation='softmax'))  \n",
    "\n",
    "\n",
    "learning_rate = 0.0001 \n",
    "optimizer = Adam(learning_rate=learning_rate)\n",
    "model.compile(optimizer=optimizer, loss='categorical_crossentropy', metrics=['accuracy'])\n",
    "\n",
    "\n",
    "hist = model.fit(x_train, y_train, validation_data=(x_valid, y_valid), batch_size=4, epochs=10)\n"
   ]
  },
  {
   "cell_type": "code",
   "execution_count": 25,
   "metadata": {},
   "outputs": [
    {
     "name": "stdout",
     "output_type": "stream",
     "text": [
      "\u001b[1m5/5\u001b[0m \u001b[32m━━━━━━━━━━━━━━━━━━━━\u001b[0m\u001b[37m\u001b[0m \u001b[1m1s\u001b[0m 211ms/step - accuracy: 0.9285 - loss: 0.5640\n",
      "Testing Loss: 0.38239726424217224\n",
      "Testing Accuracy: 0.9457364082336426\n"
     ]
    }
   ],
   "source": [
    "test_loss, test_accuracy = model.evaluate(x_test, y_test)\n",
    "\n",
    "print(\"Testing Loss:\", test_loss)\n",
    "print(\"Testing Accuracy:\", test_accuracy)"
   ]
  },
  {
   "cell_type": "code",
   "execution_count": 26,
   "metadata": {},
   "outputs": [],
   "source": [
    "def predict_label(audio_file):\n",
    "    label = ['belly_pain', 'burping', 'discomfort', 'hungry', 'tired'] \n",
    "    labels = np.array(label) \n",
    "    processed_audio = preprocess_audio(audio_file)\n",
    "    predicted_prob = model.predict(np.array([processed_audio]))\n",
    "    predicted_label_index = np.argmax(predicted_prob)\n",
    "    predicted_label = labels[predicted_label_index]\n",
    "    return predicted_label"
   ]
  },
  {
   "cell_type": "code",
   "execution_count": 27,
   "metadata": {},
   "outputs": [
    {
     "data": {
      "text/plain": [
       "[]"
      ]
     },
     "execution_count": 27,
     "metadata": {},
     "output_type": "execute_result"
    },
    {
     "data": {
      "image/png": "[encoded data removed]",
      "text/plain": [
       "<Figure size 640x480 with 1 Axes>"
      ]
     },
     "metadata": {},
     "output_type": "display_data"
    }
   ],
   "source": [
    "acc = hist.history['accuracy']\n",
    "val_acc = hist.history['val_accuracy']\n",
    "# test_acc = hist.history['test_accuracy']\n",
    "epochs = range(1, len(acc) + 1)\n",
    "\n",
    "plt.plot(epochs, acc, '-', label='Training Accuracy')\n",
    "plt.plot(epochs, val_acc, ':', label='Validation Accuracy')\n",
    "plt.title('Training and Validation Accuracy')\n",
    "plt.xlabel('Epoch')\n",
    "plt.ylabel('Accuracy')\n",
    "plt.legend(loc='lower right')\n",
    "\n",
    "plt.plot()"
   ]
  },
  {
   "cell_type": "code",
   "execution_count": 28,
   "metadata": {},
   "outputs": [
    {
     "data": {
      "image/png": "[encoded data removed]",
      "text/plain": [
       "<Figure size 640x480 with 1 Axes>"
      ]
     },
     "metadata": {},
     "output_type": "display_data"
    }
   ],
   "source": [
    "loss = hist.history['loss']\n",
    "val_loss = hist.history['val_loss']\n",
    "\n",
    "plt.figure()\n",
    "\n",
    "plt.plot(epochs, loss, '-', label='Training Loss')\n",
    "plt.plot(epochs, val_loss, ':', label='Validation Loss')\n",
    "plt.title('Training and Validation Loss')\n",
    "plt.xlabel('Epoch')\n",
    "plt.ylabel('Loss')\n",
    "plt.legend(loc='upper right')\n",
    "plt.show()"
   ]
  },
  {
   "cell_type": "code",
   "execution_count": 29,
   "metadata": {},
   "outputs": [
    {
     "name": "stdout",
     "output_type": "stream",
     "text": [
      "\u001b[1m5/5\u001b[0m \u001b[32m━━━━━━━━━━━━━━━━━━━━\u001b[0m\u001b[37m\u001b[0m \u001b[1m2s\u001b[0m 309ms/step\n"
     ]
    },
    {
     "data": {
      "image/png": "[encoded data removed]",
      "text/plain": [
       "<Figure size 640x480 with 1 Axes>"
      ]
     },
     "metadata": {},
     "output_type": "display_data"
    }
   ],
   "source": [
    "from sklearn.metrics import confusion_matrix\n",
    "import seaborn as sns\n",
    "import matplotlib.pyplot as plt\n",
    "sns.set()\n",
    "\n",
    "\n",
    "y_predicted = model.predict(x_test)\n",
    "predicted_labels = np.argmax(y_predicted, axis=1)\n",
    "actual_labels = np.argmax(y_test, axis=1)\n",
    "class_labels = ['belly_pain', 'burping', 'discomfort', 'hungry', 'tired']\n",
    "\n",
    "mat = confusion_matrix(actual_labels, predicted_labels)\n",
    "sns.heatmap(mat, square=True, annot=True, fmt='d', cbar=False, cmap='Blues',\n",
    "            xticklabels=class_labels,\n",
    "            yticklabels=class_labels)\n",
    "\n",
    "plt.xlabel('Predicted label')\n",
    "plt.ylabel('Actual label')\n",
    "plt.title('Confusion Matrix')\n",
    "plt.show()"
   ]
  },
  {
   "cell_type": "code",
   "execution_count": 30,
   "metadata": {},
   "outputs": [
    {
     "name": "stdout",
     "output_type": "stream",
     "text": [
      "              precision    recall  f1-score   support\n",
      "\n",
      "  belly_pain       1.00      0.96      0.98        25\n",
      "     burping       1.00      1.00      1.00        28\n",
      "  discomfort       0.92      0.80      0.86        15\n",
      "      hungry       0.86      0.94      0.90        33\n",
      "       tired       0.96      0.96      0.96        28\n",
      "\n",
      "    accuracy                           0.95       129\n",
      "   macro avg       0.95      0.93      0.94       129\n",
      "weighted avg       0.95      0.95      0.95       129\n",
      "\n"
     ]
    }
   ],
   "source": [
    "from sklearn.metrics import classification_report\n",
    "\n",
    "# Convert probabilities to class labels\n",
    "predicted_labels = np.argmax(y_predicted, axis=1)\n",
    "\n",
    "# Print classification report\n",
    "print(classification_report(actual_labels, predicted_labels, target_names=class_labels))\n"
   ]
  },
  {
   "cell_type": "code",
   "execution_count": 20,
   "metadata": {},
   "outputs": [
    {
     "name": "stdout",
     "output_type": "stream",
     "text": [
      "Specificity: 1.0\n"
     ]
    }
   ],
   "source": [
    "from sklearn.metrics import confusion_matrix\n",
    "\n",
    "# Get the confusion matrix\n",
    "cm = confusion_matrix(actual_labels, predicted_labels)\n",
    "\n",
    "# Calculate specificity\n",
    "specificity = cm[0, 0] / (cm[0, 0] + cm[0, 1])\n",
    "\n",
    "print(\"Specificity:\", specificity)\n"
   ]
  },
  {
   "cell_type": "code",
   "execution_count": 31,
   "metadata": {},
   "outputs": [
    {
     "name": "stdout",
     "output_type": "stream",
     "text": [
      " belly_pain: 1.0\n",
      " burping: 1.0\n",
      " discomfort: 0.990990990990991\n",
      " hungry: 0.9479166666666666\n",
      " tired: 0.9895833333333334\n"
     ]
    }
   ],
   "source": [
    "from sklearn.metrics import confusion_matrix\n",
    "\n",
    "# Get the confusion matrix\n",
    "cm = confusion_matrix(actual_labels, predicted_labels)\n",
    "\n",
    "# Calculate specificity for each class label\n",
    "specificity_per_class = []\n",
    "for i in range(len(class_labels)):\n",
    "    true_negatives = sum(cm[j, j] for j in range(len(class_labels)) if j != i)\n",
    "    false_positives = sum(cm[j, i] for j in range(len(class_labels)) if j != i)\n",
    "    specificity = true_negatives / (true_negatives + false_positives)\n",
    "    specificity_per_class.append(specificity)\n",
    "\n",
    "# Print specificity for each class label\n",
    "for i, label in enumerate(class_labels):\n",
    "    print(f\" {label}: {specificity_per_class[i]}\")\n"
   ]
  },
  {
   "cell_type": "code",
   "execution_count": 33,
   "metadata": {},
   "outputs": [
    {
     "name": "stderr",
     "output_type": "stream",
     "text": [
      "WARNING:absl:You are saving your model as an HDF5 file via `model.save()` or `keras.saving.save_model(model)`. This file format is considered legacy. We recommend using instead the native Keras format, e.g. `model.save('my_model.keras')` or `keras.saving.save_model(model, 'my_model.keras')`. \n"
     ]
    }
   ],
   "source": [
    "from keras.models import load_model\n",
    "model.save('dsp_cry_corpus_cnn.h5')"
   ]
  },
  {
   "cell_type": "code",
   "execution_count": 32,
   "metadata": {},
   "outputs": [
    {
     "data": {
      "text/html": [
       "<pre style=\"white-space:pre;overflow-x:auto;line-height:normal;font-family:Menlo,'DejaVu Sans Mono',consolas,'Courier New',monospace\"><span style=\"font-weight: bold\">Model: \"sequential_2\"</span>\n",
       "</pre>\n"
      ],
      "text/plain": [
       "\u001b[1mModel: \"sequential_2\"\u001b[0m\n"
      ]
     },
     "metadata": {},
     "output_type": "display_data"
    },
    {
     "data": {
      "text/html": [
       "<pre style=\"white-space:pre;overflow-x:auto;line-height:normal;font-family:Menlo,'DejaVu Sans Mono',consolas,'Courier New',monospace\">┏━━━━━━━━━━━━━━━━━━━━━━━━━━━━━━━━━┳━━━━━━━━━━━━━━━━━━━━━━━━┳━━━━━━━━━━━━━━━┓\n",
       "┃<span style=\"font-weight: bold\"> Layer (type)                    </span>┃<span style=\"font-weight: bold\"> Output Shape           </span>┃<span style=\"font-weight: bold\">       Param # </span>┃\n",
       "┡━━━━━━━━━━━━━━━━━━━━━━━━━━━━━━━━━╇━━━━━━━━━━━━━━━━━━━━━━━━╇━━━━━━━━━━━━━━━┩\n",
       "│ conv2d_8 (<span style=\"color: #0087ff; text-decoration-color: #0087ff\">Conv2D</span>)               │ (<span style=\"color: #00d7ff; text-decoration-color: #00d7ff\">None</span>, <span style=\"color: #00af00; text-decoration-color: #00af00\">126</span>, <span style=\"color: #00af00; text-decoration-color: #00af00\">430</span>, <span style=\"color: #00af00; text-decoration-color: #00af00\">32</span>)   │           <span style=\"color: #00af00; text-decoration-color: #00af00\">320</span> │\n",
       "├─────────────────────────────────┼────────────────────────┼───────────────┤\n",
       "│ max_pooling2d_8 (<span style=\"color: #0087ff; text-decoration-color: #0087ff\">MaxPooling2D</span>)  │ (<span style=\"color: #00d7ff; text-decoration-color: #00d7ff\">None</span>, <span style=\"color: #00af00; text-decoration-color: #00af00\">63</span>, <span style=\"color: #00af00; text-decoration-color: #00af00\">215</span>, <span style=\"color: #00af00; text-decoration-color: #00af00\">32</span>)    │             <span style=\"color: #00af00; text-decoration-color: #00af00\">0</span> │\n",
       "├─────────────────────────────────┼────────────────────────┼───────────────┤\n",
       "│ conv2d_9 (<span style=\"color: #0087ff; text-decoration-color: #0087ff\">Conv2D</span>)               │ (<span style=\"color: #00d7ff; text-decoration-color: #00d7ff\">None</span>, <span style=\"color: #00af00; text-decoration-color: #00af00\">61</span>, <span style=\"color: #00af00; text-decoration-color: #00af00\">213</span>, <span style=\"color: #00af00; text-decoration-color: #00af00\">128</span>)   │        <span style=\"color: #00af00; text-decoration-color: #00af00\">36,992</span> │\n",
       "├─────────────────────────────────┼────────────────────────┼───────────────┤\n",
       "│ max_pooling2d_9 (<span style=\"color: #0087ff; text-decoration-color: #0087ff\">MaxPooling2D</span>)  │ (<span style=\"color: #00d7ff; text-decoration-color: #00d7ff\">None</span>, <span style=\"color: #00af00; text-decoration-color: #00af00\">30</span>, <span style=\"color: #00af00; text-decoration-color: #00af00\">106</span>, <span style=\"color: #00af00; text-decoration-color: #00af00\">128</span>)   │             <span style=\"color: #00af00; text-decoration-color: #00af00\">0</span> │\n",
       "├─────────────────────────────────┼────────────────────────┼───────────────┤\n",
       "│ conv2d_10 (<span style=\"color: #0087ff; text-decoration-color: #0087ff\">Conv2D</span>)              │ (<span style=\"color: #00d7ff; text-decoration-color: #00d7ff\">None</span>, <span style=\"color: #00af00; text-decoration-color: #00af00\">28</span>, <span style=\"color: #00af00; text-decoration-color: #00af00\">104</span>, <span style=\"color: #00af00; text-decoration-color: #00af00\">128</span>)   │       <span style=\"color: #00af00; text-decoration-color: #00af00\">147,584</span> │\n",
       "├─────────────────────────────────┼────────────────────────┼───────────────┤\n",
       "│ max_pooling2d_10 (<span style=\"color: #0087ff; text-decoration-color: #0087ff\">MaxPooling2D</span>) │ (<span style=\"color: #00d7ff; text-decoration-color: #00d7ff\">None</span>, <span style=\"color: #00af00; text-decoration-color: #00af00\">14</span>, <span style=\"color: #00af00; text-decoration-color: #00af00\">52</span>, <span style=\"color: #00af00; text-decoration-color: #00af00\">128</span>)    │             <span style=\"color: #00af00; text-decoration-color: #00af00\">0</span> │\n",
       "├─────────────────────────────────┼────────────────────────┼───────────────┤\n",
       "│ conv2d_11 (<span style=\"color: #0087ff; text-decoration-color: #0087ff\">Conv2D</span>)              │ (<span style=\"color: #00d7ff; text-decoration-color: #00d7ff\">None</span>, <span style=\"color: #00af00; text-decoration-color: #00af00\">12</span>, <span style=\"color: #00af00; text-decoration-color: #00af00\">50</span>, <span style=\"color: #00af00; text-decoration-color: #00af00\">128</span>)    │       <span style=\"color: #00af00; text-decoration-color: #00af00\">147,584</span> │\n",
       "├─────────────────────────────────┼────────────────────────┼───────────────┤\n",
       "│ max_pooling2d_11 (<span style=\"color: #0087ff; text-decoration-color: #0087ff\">MaxPooling2D</span>) │ (<span style=\"color: #00d7ff; text-decoration-color: #00d7ff\">None</span>, <span style=\"color: #00af00; text-decoration-color: #00af00\">6</span>, <span style=\"color: #00af00; text-decoration-color: #00af00\">25</span>, <span style=\"color: #00af00; text-decoration-color: #00af00\">128</span>)     │             <span style=\"color: #00af00; text-decoration-color: #00af00\">0</span> │\n",
       "├─────────────────────────────────┼────────────────────────┼───────────────┤\n",
       "│ flatten_2 (<span style=\"color: #0087ff; text-decoration-color: #0087ff\">Flatten</span>)             │ (<span style=\"color: #00d7ff; text-decoration-color: #00d7ff\">None</span>, <span style=\"color: #00af00; text-decoration-color: #00af00\">19200</span>)          │             <span style=\"color: #00af00; text-decoration-color: #00af00\">0</span> │\n",
       "├─────────────────────────────────┼────────────────────────┼───────────────┤\n",
       "│ dense_4 (<span style=\"color: #0087ff; text-decoration-color: #0087ff\">Dense</span>)                 │ (<span style=\"color: #00d7ff; text-decoration-color: #00d7ff\">None</span>, <span style=\"color: #00af00; text-decoration-color: #00af00\">1024</span>)           │    <span style=\"color: #00af00; text-decoration-color: #00af00\">19,661,824</span> │\n",
       "├─────────────────────────────────┼────────────────────────┼───────────────┤\n",
       "│ dense_5 (<span style=\"color: #0087ff; text-decoration-color: #0087ff\">Dense</span>)                 │ (<span style=\"color: #00d7ff; text-decoration-color: #00d7ff\">None</span>, <span style=\"color: #00af00; text-decoration-color: #00af00\">5</span>)              │         <span style=\"color: #00af00; text-decoration-color: #00af00\">5,125</span> │\n",
       "└─────────────────────────────────┴────────────────────────┴───────────────┘\n",
       "</pre>\n"
      ],
      "text/plain": [
       "┏━━━━━━━━━━━━━━━━━━━━━━━━━━━━━━━━━┳━━━━━━━━━━━━━━━━━━━━━━━━┳━━━━━━━━━━━━━━━┓\n",
       "┃\u001b[1m \u001b[0m\u001b[1mLayer (type)                   \u001b[0m\u001b[1m \u001b[0m┃\u001b[1m \u001b[0m\u001b[1mOutput Shape          \u001b[0m\u001b[1m \u001b[0m┃\u001b[1m \u001b[0m\u001b[1m      Param #\u001b[0m\u001b[1m \u001b[0m┃\n",
       "┡━━━━━━━━━━━━━━━━━━━━━━━━━━━━━━━━━╇━━━━━━━━━━━━━━━━━━━━━━━━╇━━━━━━━━━━━━━━━┩\n",
       "│ conv2d_8 (\u001b[38;5;33mConv2D\u001b[0m)               │ (\u001b[38;5;45mNone\u001b[0m, \u001b[38;5;34m126\u001b[0m, \u001b[38;5;34m430\u001b[0m, \u001b[38;5;34m32\u001b[0m)   │           \u001b[38;5;34m320\u001b[0m │\n",
       "├─────────────────────────────────┼────────────────────────┼───────────────┤\n",
       "│ max_pooling2d_8 (\u001b[38;5;33mMaxPooling2D\u001b[0m)  │ (\u001b[38;5;45mNone\u001b[0m, \u001b[38;5;34m63\u001b[0m, \u001b[38;5;34m215\u001b[0m, \u001b[38;5;34m32\u001b[0m)    │             \u001b[38;5;34m0\u001b[0m │\n",
       "├─────────────────────────────────┼────────────────────────┼───────────────┤\n",
       "│ conv2d_9 (\u001b[38;5;33mConv2D\u001b[0m)               │ (\u001b[38;5;45mNone\u001b[0m, \u001b[38;5;34m61\u001b[0m, \u001b[38;5;34m213\u001b[0m, \u001b[38;5;34m128\u001b[0m)   │        \u001b[38;5;34m36,992\u001b[0m │\n",
       "├─────────────────────────────────┼────────────────────────┼───────────────┤\n",
       "│ max_pooling2d_9 (\u001b[38;5;33mMaxPooling2D\u001b[0m)  │ (\u001b[38;5;45mNone\u001b[0m, \u001b[38;5;34m30\u001b[0m, \u001b[38;5;34m106\u001b[0m, \u001b[38;5;34m128\u001b[0m)   │             \u001b[38;5;34m0\u001b[0m │\n",
       "├─────────────────────────────────┼────────────────────────┼───────────────┤\n",
       "│ conv2d_10 (\u001b[38;5;33mConv2D\u001b[0m)              │ (\u001b[38;5;45mNone\u001b[0m, \u001b[38;5;34m28\u001b[0m, \u001b[38;5;34m104\u001b[0m, \u001b[38;5;34m128\u001b[0m)   │       \u001b[38;5;34m147,584\u001b[0m │\n",
       "├─────────────────────────────────┼────────────────────────┼───────────────┤\n",
       "│ max_pooling2d_10 (\u001b[38;5;33mMaxPooling2D\u001b[0m) │ (\u001b[38;5;45mNone\u001b[0m, \u001b[38;5;34m14\u001b[0m, \u001b[38;5;34m52\u001b[0m, \u001b[38;5;34m128\u001b[0m)    │             \u001b[38;5;34m0\u001b[0m │\n",
       "├─────────────────────────────────┼────────────────────────┼───────────────┤\n",
       "│ conv2d_11 (\u001b[38;5;33mConv2D\u001b[0m)              │ (\u001b[38;5;45mNone\u001b[0m, \u001b[38;5;34m12\u001b[0m, \u001b[38;5;34m50\u001b[0m, \u001b[38;5;34m128\u001b[0m)    │       \u001b[38;5;34m147,584\u001b[0m │\n",
       "├─────────────────────────────────┼────────────────────────┼───────────────┤\n",
       "│ max_pooling2d_11 (\u001b[38;5;33mMaxPooling2D\u001b[0m) │ (\u001b[38;5;45mNone\u001b[0m, \u001b[38;5;34m6\u001b[0m, \u001b[38;5;34m25\u001b[0m, \u001b[38;5;34m128\u001b[0m)     │             \u001b[38;5;34m0\u001b[0m │\n",
       "├─────────────────────────────────┼────────────────────────┼───────────────┤\n",
       "│ flatten_2 (\u001b[38;5;33mFlatten\u001b[0m)             │ (\u001b[38;5;45mNone\u001b[0m, \u001b[38;5;34m19200\u001b[0m)          │             \u001b[38;5;34m0\u001b[0m │\n",
       "├─────────────────────────────────┼────────────────────────┼───────────────┤\n",
       "│ dense_4 (\u001b[38;5;33mDense\u001b[0m)                 │ (\u001b[38;5;45mNone\u001b[0m, \u001b[38;5;34m1024\u001b[0m)           │    \u001b[38;5;34m19,661,824\u001b[0m │\n",
       "├─────────────────────────────────┼────────────────────────┼───────────────┤\n",
       "│ dense_5 (\u001b[38;5;33mDense\u001b[0m)                 │ (\u001b[38;5;45mNone\u001b[0m, \u001b[38;5;34m5\u001b[0m)              │         \u001b[38;5;34m5,125\u001b[0m │\n",
       "└─────────────────────────────────┴────────────────────────┴───────────────┘\n"
      ]
     },
     "metadata": {},
     "output_type": "display_data"
    },
    {
     "data": {
      "text/html": [
       "<pre style=\"white-space:pre;overflow-x:auto;line-height:normal;font-family:Menlo,'DejaVu Sans Mono',consolas,'Courier New',monospace\"><span style=\"font-weight: bold\"> Total params: </span><span style=\"color: #00af00; text-decoration-color: #00af00\">19,999,429</span> (76.29 MB)\n",
       "</pre>\n"
      ],
      "text/plain": [
       "\u001b[1m Total params: \u001b[0m\u001b[38;5;34m19,999,429\u001b[0m (76.29 MB)\n"
      ]
     },
     "metadata": {},
     "output_type": "display_data"
    },
    {
     "data": {
      "text/html": [
       "<pre style=\"white-space:pre;overflow-x:auto;line-height:normal;font-family:Menlo,'DejaVu Sans Mono',consolas,'Courier New',monospace\"><span style=\"font-weight: bold\"> Trainable params: </span><span style=\"color: #00af00; text-decoration-color: #00af00\">19,999,429</span> (76.29 MB)\n",
       "</pre>\n"
      ],
      "text/plain": [
       "\u001b[1m Trainable params: \u001b[0m\u001b[38;5;34m19,999,429\u001b[0m (76.29 MB)\n"
      ]
     },
     "metadata": {},
     "output_type": "display_data"
    },
    {
     "data": {
      "text/html": [
       "<pre style=\"white-space:pre;overflow-x:auto;line-height:normal;font-family:Menlo,'DejaVu Sans Mono',consolas,'Courier New',monospace\"><span style=\"font-weight: bold\"> Non-trainable params: </span><span style=\"color: #00af00; text-decoration-color: #00af00\">0</span> (0.00 B)\n",
       "</pre>\n"
      ],
      "text/plain": [
       "\u001b[1m Non-trainable params: \u001b[0m\u001b[38;5;34m0\u001b[0m (0.00 B)\n"
      ]
     },
     "metadata": {},
     "output_type": "display_data"
    }
   ],
   "source": [
    "import numpy as np\n",
    "from keras.models import Sequential\n",
    "from keras.layers import Conv2D, MaxPooling2D, Flatten, Dense, InputLayer\n",
    "from sklearn.preprocessing import LabelEncoder\n",
    "from keras.utils import to_categorical\n",
    "from sklearn.model_selection import train_test_split\n",
    "from keras.optimizers import Adam\n",
    "\n",
    "\n",
    "\n",
    "\n",
    "model = Sequential()\n",
    "model.add(InputLayer(input_shape=x[0].shape))\n",
    "model.add(Conv2D(32, 3, activation='relu' ))\n",
    "model.add(MaxPooling2D())\n",
    "model.add(Conv2D(128, 3, activation='relu'))\n",
    "model.add(MaxPooling2D())\n",
    "model.add(Conv2D(128, 3, activation='relu'))\n",
    "model.add(MaxPooling2D())\n",
    "model.add(Conv2D(128, 3, activation='relu'))\n",
    "model.add(MaxPooling2D(2))\n",
    "model.add(Flatten())\n",
    "model.add(Dense(1024, activation='relu'))\n",
    "model.add(Dense(y_onehot.shape[1], activation='softmax'))  \n",
    "\n",
    "\n",
    "learning_rate = 0.0001 \n",
    "optimizer = Adam(learning_rate=learning_rate)\n",
    "model.compile(optimizer=optimizer, loss='categorical_crossentropy', metrics=['accuracy'])\n",
    "model.summary()"
   ]
  },
  {
   "cell_type": "code",
   "execution_count": null,
   "metadata": {},
   "outputs": [],
   "source": []
  },
  {
   "cell_type": "code",
   "execution_count": null,
   "metadata": {},
   "outputs": [],
   "source": []
  }
 ],
 "metadata": {
  "kernelspec": {
   "display_name": "Python 3",
   "language": "python",
   "name": "python3"
  },
  "language_info": {
   "codemirror_mode": {
    "name": "ipython",
    "version": 3
   },
   "file_extension": ".py",
   "mimetype": "text/x-python",
   "name": "python",
   "nbconvert_exporter": "python",
   "pygments_lexer": "ipython3",
   "version": "3.11.5"
  }
 },
 "nbformat": 4,
 "nbformat_minor": 2
}
